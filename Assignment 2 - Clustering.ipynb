{
 "cells": [
  {
   "cell_type": "markdown",
   "id": "698f8933-c9ef-48cc-95ed-58a096544a21",
   "metadata": {},
   "source": [
    "# Part-1 : To develop your version K-Means using the algorithm\n",
    "- Implemented my version of K-Means in KMeans.py file"
   ]
  },
  {
   "cell_type": "markdown",
   "id": "ea7edf54-e600-4496-a2bc-b8720bdb7889",
   "metadata": {},
   "source": [
    "# 1. Import required libraries\n",
    "- Importing all the necessary libraries required"
   ]
  },
  {
   "cell_type": "code",
   "execution_count": 6,
   "id": "cfb0030f-c3a4-4304-87b6-e1912880a037",
   "metadata": {},
   "outputs": [
    {
     "ename": "ImportError",
     "evalue": "cannot import name 'Cluster' from 'cluster' (/Users/ruchamaslekar/kmeans-ruchamaslekar/cluster.py)",
     "output_type": "error",
     "traceback": [
      "\u001b[0;31m---------------------------------------------------------------------------\u001b[0m",
      "\u001b[0;31mImportError\u001b[0m                               Traceback (most recent call last)",
      "Cell \u001b[0;32mIn[6], line 5\u001b[0m\n\u001b[1;32m      3\u001b[0m \u001b[38;5;28;01mimport\u001b[39;00m \u001b[38;5;21;01mpandas\u001b[39;00m \u001b[38;5;28;01mas\u001b[39;00m \u001b[38;5;21;01mpd\u001b[39;00m\n\u001b[1;32m      4\u001b[0m \u001b[38;5;28;01mimport\u001b[39;00m \u001b[38;5;21;01mseaborn\u001b[39;00m \u001b[38;5;28;01mas\u001b[39;00m \u001b[38;5;21;01msns\u001b[39;00m\n\u001b[0;32m----> 5\u001b[0m \u001b[38;5;28;01mfrom\u001b[39;00m \u001b[38;5;21;01mKMeans\u001b[39;00m \u001b[38;5;28;01mimport\u001b[39;00m KMeans\n\u001b[1;32m      6\u001b[0m \u001b[38;5;28;01mfrom\u001b[39;00m \u001b[38;5;21;01msklearn\u001b[39;00m\u001b[38;5;21;01m.\u001b[39;00m\u001b[38;5;21;01mdatasets\u001b[39;00m \u001b[38;5;28;01mimport\u001b[39;00m make_blobs\n",
      "File \u001b[0;32m~/kmeans-ruchamaslekar/KMeans.py:2\u001b[0m\n\u001b[0;32m----> 2\u001b[0m \u001b[38;5;28;01mfrom\u001b[39;00m \u001b[38;5;21;01mcluster\u001b[39;00m \u001b[38;5;28;01mimport\u001b[39;00m Cluster\n\u001b[1;32m      3\u001b[0m \u001b[38;5;28;01mimport\u001b[39;00m \u001b[38;5;21;01mnumpy\u001b[39;00m \u001b[38;5;28;01mas\u001b[39;00m \u001b[38;5;21;01mnp\u001b[39;00m\n\u001b[1;32m      5\u001b[0m \u001b[38;5;28;01mclass\u001b[39;00m \u001b[38;5;21;01mKMeans\u001b[39;00m(Cluster):\n",
      "\u001b[0;31mImportError\u001b[0m: cannot import name 'Cluster' from 'cluster' (/Users/ruchamaslekar/kmeans-ruchamaslekar/cluster.py)"
     ]
    }
   ],
   "source": [
    "import numpy as np\n",
    "import matplotlib.pyplot as plt\n",
    "import pandas as pd\n",
    "import seaborn as sns\n",
    "from KMeans import KMeans\n",
    "from sklearn.datasets import make_blobs"
   ]
  },
  {
   "cell_type": "markdown",
   "id": "29c16251-5eda-438d-9960-659e6c83da83",
   "metadata": {},
   "source": [
    "# 2. Input data\n",
    "- These data points represent coordinates in a 2D space.\n",
    "- The goal is to apply the K-Means algorithm to cluster these points into distinct groups.\n",
    "- Each sublist in X corresponds to the (x, y) coordinates of an instance.\n",
    "- This sample data has 8 instances for demonstration purposes."
   ]
  },
  {
   "cell_type": "code",
   "execution_count": null,
   "id": "bc1ad1bd-96e8-4f75-a0a0-ec8747ba8d00",
   "metadata": {},
   "outputs": [],
   "source": [
    "X = [[0, 0], [2, 2], [0, 2], [2, 0], [10, 10], [8, 8], [10, 8], [8, 10]]"
   ]
  },
  {
   "cell_type": "markdown",
   "id": "62a455b7-14ea-4ff3-81f8-8a45ab6cdfd3",
   "metadata": {},
   "source": [
    "# 3. Applying K-Means Clustering\n",
    "- Initializing a KMeans object with k=2, indicating the desired number of clusters.\n",
    "- Performing K-Means clustering on the dataset X.\n",
    "- The result includes cluster labels assigned to each data point (cluster_labels)\n",
    "  and the coordinates of the cluster centroids (centroids)."
   ]
  },
  {
   "cell_type": "code",
   "execution_count": null,
   "id": "9e731e7f-525f-4998-8b6a-f0ed5704bcf6",
   "metadata": {},
   "outputs": [],
   "source": [
    "kmeans = KMeans(k=2)\n",
    "labels, centroids = kmeans.fit(X)"
   ]
  },
  {
   "cell_type": "markdown",
   "id": "2721e55f-c11f-4b79-90a5-d2f80c9a5139",
   "metadata": {},
   "source": [
    "# 4. Expected output\n",
    "- Printing the expected cluster labels for the given dataset X.\n",
    "- Printing the expected coordinates of cluster centroids after K-Means clustering."
   ]
  },
  {
   "cell_type": "code",
   "execution_count": null,
   "id": "733eaffa-a09d-45ef-994d-fec797004093",
   "metadata": {},
   "outputs": [],
   "source": [
    "expected_labels = [0, 0, 0, 0, 1, 1, 1, 1]\n",
    "expected_centroids = [[1, 1], [9, 9]]\n",
    "\n",
    "print(\"Expected lables:\", expected_labels)\n",
    "print(\"Expected centroids:\", expected_centroids)"
   ]
  },
  {
   "cell_type": "markdown",
   "id": "0f92795e-52f1-4bca-abe7-5f37515ca528",
   "metadata": {},
   "source": [
    "# Part-2 : Performance Analysis"
   ]
  },
  {
   "cell_type": "markdown",
   "id": "96c27384-a0bc-4acc-aa55-97570cf365e0",
   "metadata": {},
   "source": [
    "# 1. Generating My Cluster Assignments\n",
    "- Using make_blobs to generate 700 instances of data points with 4 clusters in 2-dimensional space.\n",
    "- Parameters: n_samples=700 (number of instances), centers=4 (number of clusters),\n",
    "  cluster_std=0.60 (standard deviation of each cluster), random_state=0 (seed for reproducibility).\n",
    "- Displaying the generated data points in X."
   ]
  },
  {
   "cell_type": "code",
   "execution_count": null,
   "id": "6ea5b238-b4a7-4886-a1b5-2b79d5ab6ed0",
   "metadata": {},
   "outputs": [],
   "source": [
    "X, My_cluster_assignments = make_blobs(n_samples=700, centers=4, cluster_std=0.60, random_state=0)\n",
    "X"
   ]
  },
  {
   "cell_type": "markdown",
   "id": "a4acf88a-2184-4985-a257-1ab58104183a",
   "metadata": {},
   "source": [
    "# 2. Printing cluster_assignments"
   ]
  },
  {
   "cell_type": "code",
   "execution_count": null,
   "id": "9a914bda-7486-4f0a-8be3-b17075b7b81d",
   "metadata": {},
   "outputs": [],
   "source": [
    "My_cluster_assignments"
   ]
  },
  {
   "cell_type": "markdown",
   "id": "64be6947-0a02-4e8b-b730-de674f0e3a85",
   "metadata": {},
   "source": [
    "# 3. My custom KMeans implementation\n",
    "- Applying K-Means clustering with k=4 to the dataset X.\n",
    "- Displaying the coordinates of cluster centroids after clustering."
   ]
  },
  {
   "cell_type": "code",
   "execution_count": null,
   "id": "43c06ea5-0477-4d27-8f86-39a62851d05f",
   "metadata": {},
   "outputs": [],
   "source": [
    "kmeans = KMeans(k=4)\n",
    "labels, centroids = kmeans.fit(X)\n",
    "centroids"
   ]
  },
  {
   "cell_type": "markdown",
   "id": "f02d5045-b547-41e6-94cc-f0db777b3549",
   "metadata": {},
   "source": [
    "# 4.Scikit-learn KMeans implementation\n",
    "- Importing necessary library\n",
    "- Applying K-Means clustering with k=4 to the dataset X.\n",
    "- Displaying the kmeans_sklearn after clustering."
   ]
  },
  {
   "cell_type": "code",
   "execution_count": null,
   "id": "7e372585-bf60-4d54-b53d-3ac94627dd05",
   "metadata": {},
   "outputs": [],
   "source": [
    "from sklearn.cluster import KMeans\n",
    "kmeans_sklearn = KMeans(n_clusters=4, random_state=0)\n",
    "sklearn_cluster_assignments = kmeans_sklearn.fit_predict(X)"
   ]
  },
  {
   "cell_type": "markdown",
   "id": "1b0a0f6a-9b70-4c59-af85-b246d4fdb25b",
   "metadata": {},
   "source": [
    "# 5. Comparison of Cluster Assignments: Custom KMeans vs. Scikit-learn KMeans vs. Actual Clusters\n",
    "- Creating a 12x4 figure.\n",
    "- Setting up a 1x3 grid.\n",
    "- Actual clusters, color-coded by My_cluster_assignments.\n",
    "- My KMeans clusters, color-coded by your custom assignments.\n",
    "- Scikit-learn KMeans clusters, color-coded by scikit-learn assignments.\n",
    "- Displaying the figure with three subplots."
   ]
  },
  {
   "cell_type": "code",
   "execution_count": null,
   "id": "5f0de6d1-c2c8-46ea-995e-4e706c40a118",
   "metadata": {},
   "outputs": [],
   "source": [
    "plt.figure(figsize=(13, 5))\n",
    "\n",
    "# Plot for 'labels'\n",
    "plt.subplot(1, 3, 1)\n",
    "sns.scatterplot(x=X[:, 0], y=X[:, 1], hue=labels)\n",
    "plt.title('Actual Clusters')\n",
    "plt.legend()\n",
    "\n",
    "# Plot for 'My_cluster_assignments'\n",
    "plt.subplot(1, 3, 2)\n",
    "sns.scatterplot(x=X[:, 0], y=X[:, 1], hue=My_cluster_assignments)\n",
    "plt.title('My KMeans Clusters')\n",
    "plt.legend()\n",
    "\n",
    "# Plot for 'sklearn_cluster_assignments'\n",
    "plt.subplot(1, 3, 3)\n",
    "sns.scatterplot(x=X[:, 0], y=X[:, 1], hue=sklearn_cluster_assignments)\n",
    "plt.title('Scikit-learn KMeans Clusters')\n",
    "plt.legend()\n",
    "\n",
    "plt.show()"
   ]
  },
  {
   "cell_type": "markdown",
   "id": "3f57a4e7-7a4f-4348-bacb-69cd256326c8",
   "metadata": {},
   "source": [
    "# 6. Comparison of Cluster Assignments"
   ]
  },
  {
   "cell_type": "code",
   "execution_count": null,
   "id": "960d4dbd-5225-47d6-a81d-809c4a28624e",
   "metadata": {},
   "outputs": [],
   "source": [
    "comparison_my_vs_actual = np.sum(My_cluster_assignments == labels) / len(labels)\n",
    "comparison_my_vs_sklearn = np.sum(My_cluster_assignments == sklearn_cluster_assignments) / len(sklearn_cluster_assignments)\n",
    "\n",
    "print(f\"Comparison (My KMeans vs Actual): {comparison_my_vs_actual:.2%}\")\n",
    "print(f\"Comparison (My KMeans vs Scikit-learn KMeans): {comparison_my_vs_sklearn:.2%}\")"
   ]
  },
  {
   "cell_type": "markdown",
   "id": "2ab4b790-0a67-434f-8a04-511a8b0e37bc",
   "metadata": {},
   "source": [
    "# 7. V-Measure Comparison Between Custom K-Means and Scikit-Learn K-Means\n",
    "- Calculating and printing the V-Measure scores and a metric for clustering evaluation.\n",
    "- Comparing the clustering results of a custom K-Means implementation."
   ]
  },
  {
   "cell_type": "code",
   "execution_count": null,
   "id": "9ab610e7-54bf-47a8-9a3b-64811c661365",
   "metadata": {},
   "outputs": [],
   "source": [
    "from sklearn.metrics import v_measure_score\n",
    "v_measure_my_kmeans = v_measure_score(My_cluster_assignments, labels)\n",
    "v_measure_sklearn_kmeans = v_measure_score(My_cluster_assignments,sklearn_cluster_assignments)\n",
    "print(f'V-Measure (My custom K-Means): {v_measure_my_kmeans}')\n",
    "print(f'V-Measure (Scikit-Learn K-Means): {v_measure_sklearn_kmeans}')"
   ]
  },
  {
   "cell_type": "markdown",
   "id": "b607bd78-f2d6-40f0-871c-d481beed1eeb",
   "metadata": {},
   "source": [
    "# Part-3.1 : Demonstration of Clustering Algorithms on Chicago Dataset"
   ]
  },
  {
   "cell_type": "markdown",
   "id": "80ff581b-75c5-4f96-9a77-5769e5a3d635",
   "metadata": {},
   "source": [
    "# 1. Fetching Chicago taxi data\n",
    "- Observed that the dataframe has 101,788 entries, ranging from index 0 to 101,787."
   ]
  },
  {
   "cell_type": "code",
   "execution_count": null,
   "id": "9a8d1639-f91c-4cf2-a6c0-02fba7d8ee16",
   "metadata": {},
   "outputs": [],
   "source": [
    "chicago_taxi_df = pd.read_csv('Taxi_Trips__2013-2023_.csv')\n",
    "chicago_taxi_df = chicago_taxi_df[['Pickup Centroid Latitude', 'Pickup Centroid Longitude']]\n",
    "chicago_taxi_df"
   ]
  },
  {
   "cell_type": "markdown",
   "id": "c1bf8006-a063-40f6-8e60-a953443accc7",
   "metadata": {},
   "source": [
    "# 2. Displaying information about the Chicago Taxi DataFrame\n",
    "- Observed that both columns are of the float64 data type.\n",
    "- \"Pickup Centroid Latitude\" and \"Pickup Centroid Longitude\" have 95,657 non-null entries each, indicating the number of non-missing values."
   ]
  },
  {
   "cell_type": "code",
   "execution_count": null,
   "id": "1a5a4ec5-41ee-408b-b2f6-8af7abb421ab",
   "metadata": {},
   "outputs": [],
   "source": [
    "chicago_taxi_df.info()"
   ]
  },
  {
   "cell_type": "markdown",
   "id": "a067faa4-f4fc-459b-a4f0-77078f442b8a",
   "metadata": {},
   "source": [
    "# 3.  Descriptive Statistics for Chicago Taxi Data\n",
    "- Observed that he latitude values range from approximately 41.66 to 42.02, covering a span of about 0.36 degrees.\n",
    "- The longitude values range from approximately -87.91 to -87.53, covering a span of about 0.38 degrees."
   ]
  },
  {
   "cell_type": "code",
   "execution_count": null,
   "id": "83527326-9c79-45a7-be9f-3a9983e69f6c",
   "metadata": {},
   "outputs": [],
   "source": [
    "chicago_taxi_df.describe()"
   ]
  },
  {
   "cell_type": "markdown",
   "id": "b959d6bb-5f8a-4a6d-8d6d-b75e522e00d4",
   "metadata": {},
   "source": [
    "# 4.  Distribution Comparison of Pickup Centroid Latitude and Longitude\n",
    "- The data has a relatively small spread around the mean, with a standard deviation of 0.06 for latitude.\n",
    "- The distribution looks somewhat symmetrical, as the mean and median are close for latitude.\n",
    "- The data has a moderate spread around the mean, with a standard deviation of 0.10 for longitude.\n",
    "- The distribution looks somewhat symmetrical, as the mean and median are close fpr longitude."
   ]
  },
  {
   "cell_type": "code",
   "execution_count": null,
   "id": "bb4b5783-5112-4521-87b2-f6ce6534fece",
   "metadata": {},
   "outputs": [],
   "source": [
    "plt.figure(figsize=(10, 5))\n",
    "\n",
    "# Plot for 'Pickup Centroid Latitude'\n",
    "plt.subplot(1, 2, 1)\n",
    "sns.histplot(chicago_taxi_df['Pickup Centroid Latitude'], kde=True, color='red')\n",
    "plt.xlabel('Pickup Centroid Latitude')\n",
    "plt.ylabel('Frequency')\n",
    "plt.title('Distribution of Pickup Centroid Latitude')\n",
    "\n",
    "# Plot for 'Pickup Centroid Longitude'\n",
    "plt.subplot(1, 2, 2)\n",
    "sns.histplot(chicago_taxi_df['Pickup Centroid Longitude'], kde=True, color='green')\n",
    "plt.xlabel('Pickup Centroid Longitude')\n",
    "plt.ylabel('Frequency')\n",
    "plt.title('Distribution of Pickup Centroid Longitude')\n",
    "\n",
    "plt.tight_layout()\n",
    "\n",
    "plt.show()"
   ]
  },
  {
   "cell_type": "markdown",
   "id": "ee267447-c227-4121-87e9-19e6fdf9efea",
   "metadata": {},
   "source": [
    "# 5. Correlation Heatmap for Chicago Taxi Data"
   ]
  },
  {
   "cell_type": "code",
   "execution_count": null,
   "id": "dc44ae93-b757-4df2-b271-c027d7fc4c0d",
   "metadata": {},
   "outputs": [],
   "source": [
    "heatmap_data = chicago_taxi_df[['Pickup Centroid Latitude', 'Pickup Centroid Longitude']]\n",
    "correlation_matrix = heatmap_data.corr()\n",
    "\n",
    "plt.figure(figsize=(6, 4))\n",
    "sns.heatmap(correlation_matrix, annot=True, cmap='coolwarm', fmt=\".2f\", linewidths=.5)\n",
    "plt.title('Correlation Heatmap: Pickup Centroid Latitude and Longitude')\n",
    "plt.show()"
   ]
  },
  {
   "cell_type": "markdown",
   "id": "e01999ec-23b8-4e1e-884d-ca6b6e875781",
   "metadata": {},
   "source": [
    "# 6. Scatter Plot "
   ]
  },
  {
   "cell_type": "code",
   "execution_count": null,
   "id": "4559a3cd-c261-40e1-a64e-48ca0b825866",
   "metadata": {},
   "outputs": [],
   "source": [
    "sns.scatterplot(data=chicago_taxi_df, x=chicago_taxi_df['Pickup Centroid Latitude'], y=chicago_taxi_df['Pickup Centroid Longitude'])"
   ]
  },
  {
   "cell_type": "markdown",
   "id": "2fbdc191-925d-4e09-bb44-c77e25d51be4",
   "metadata": {},
   "source": [
    "# 7. Checking for undefined values in dataframe"
   ]
  },
  {
   "cell_type": "code",
   "execution_count": null,
   "id": "b79adca9-ffe5-401a-a974-b32a1c12c8b1",
   "metadata": {},
   "outputs": [],
   "source": [
    "chicago_taxi_df.isnull().sum()"
   ]
  },
  {
   "cell_type": "markdown",
   "id": "5fb5bda0-4fd9-4faa-a5a9-e87b962faedc",
   "metadata": {},
   "source": [
    "# 8. Cleaning the dataframe\n",
    "- Cleaning the dataframe by remvoing undefind values"
   ]
  },
  {
   "cell_type": "code",
   "execution_count": null,
   "id": "effa65d4-e204-4c6c-867b-269913013d2a",
   "metadata": {},
   "outputs": [],
   "source": [
    "cleaned_taxi_df = chicago_taxi_df.dropna(inplace=True)\n",
    "cleaned_taxi_df"
   ]
  },
  {
   "cell_type": "markdown",
   "id": "e1698e17-b0b2-431f-a0ad-18b0e4b61174",
   "metadata": {},
   "source": [
    "# 9. Standardize the features\n",
    "- Importing StandardScaler\n",
    "- Extracting features 'Pickup Centroid Latitude', 'Pickup Centroid Longitude'"
   ]
  },
  {
   "cell_type": "code",
   "execution_count": null,
   "id": "9d5cb54d-2789-49ad-9aba-039305040130",
   "metadata": {},
   "outputs": [],
   "source": [
    "from sklearn.preprocessing import StandardScaler\n",
    "scaler = StandardScaler()\n",
    "df_taxi = scaler.fit_transform(chicago_taxi_df)"
   ]
  },
  {
   "cell_type": "markdown",
   "id": "c26da54c-a03e-473e-ae5a-02c85edec90e",
   "metadata": {},
   "source": [
    "# 10. Answers for questions mentioned in assignment pdf\n",
    "- I chose k-means for its simplicity and efficiency in handling numerical data, suitable for exploratory clustering.\n",
    "- Handled missing values, standardized features using StandardScaler, and determined k through iterative experimentation as a part f pre-   processing\n",
    "- Will give Visual representation of  k-means output with a scatter plot, color-coding data points by assigned clusters below.\n",
    "- Will use silhouette score and Davies-Bouldin index; results align with expectations, providing valuable insights for further analysis."
   ]
  },
  {
   "cell_type": "markdown",
   "id": "1394383b-b6b0-47f9-86a1-5f353bda32d8",
   "metadata": {},
   "source": [
    "# 11. Applying K-Means on Chicago taxi data"
   ]
  },
  {
   "cell_type": "code",
   "execution_count": null,
   "id": "23ac3aea-efbb-4aa6-b290-8653a9bbabd5",
   "metadata": {},
   "outputs": [],
   "source": [
    "from sklearn.cluster import KMeans\n",
    "from sklearn.metrics import silhouette_score\n",
    "\n",
    "kmeans = KMeans(n_clusters=4, random_state=42)\n",
    "kmeans_labels = kmeans.fit_predict(df_taxi)\n",
    "kmeans_score = silhouette_score(df_taxi, kmeans_labels)\n",
    "kmeans.fit(df_taxi)"
   ]
  },
  {
   "cell_type": "markdown",
   "id": "88db802c-7c91-49b5-934b-05a1c6d43712",
   "metadata": {},
   "source": [
    "# 12. Applying DBSCAN on Chicago taxi data"
   ]
  },
  {
   "cell_type": "code",
   "execution_count": null,
   "id": "0deebe80-41d3-449a-9589-8ad3a7caace9",
   "metadata": {},
   "outputs": [],
   "source": [
    "from sklearn.cluster import KMeans, DBSCAN, AgglomerativeClustering\n",
    "from sklearn.metrics import silhouette_score\n",
    "\n",
    "dbscan = DBSCAN(eps=0.5, min_samples=5)\n",
    "dbscan_labels = dbscan.fit_predict(df_taxi)\n",
    "dbscan_score = silhouette_score(df_taxi, dbscan_labels)"
   ]
  },
  {
   "cell_type": "markdown",
   "id": "74239b4f-9491-4ac0-878e-5b2d6557bb85",
   "metadata": {},
   "source": [
    "# 13. Applying Hierarchical on Chicago taxi data"
   ]
  },
  {
   "cell_type": "code",
   "execution_count": null,
   "id": "3a22704c-391b-4ffb-bab9-4cf785e231f6",
   "metadata": {},
   "outputs": [],
   "source": [
    "hierarchical = AgglomerativeClustering(n_clusters=3)\n",
    "hierarchical_labels = hierarchical.fit_predict(df_taxi)\n",
    "hierarchical_score = silhouette_score(df_taxi, hierarchical_labels)"
   ]
  },
  {
   "cell_type": "markdown",
   "id": "3ecd0032-58ff-44d3-ab9d-df55c7bb08a2",
   "metadata": {},
   "source": [
    "# 14. Visualization of K-Means, DBSCAn and Hierarchical\n",
    "- Applying the k-means algorithm, DBSCAN and Hierarchical to preprocessed Chicago taxi data with scaled features.\n",
    "- Visualizing the resulting clusters on a scatter plots, where each data point is color-coded based on its assigned cluster."
   ]
  },
  {
   "cell_type": "code",
   "execution_count": null,
   "id": "aade884b-bfad-42ce-8b60-64d80c4006af",
   "metadata": {},
   "outputs": [],
   "source": [
    "plt.scatter(df_taxi['Pickup Centroid Longitude'], df_taxi['Pickup Centroid Latitude'], c=kmeans_labels, cmap='viridis', edgecolor='k')\n",
    "plt.title('K-Means Clusters')\n",
    "plt.xlabel('Pickup Centroid Longitude')\n",
    "plt.ylabel('Pickup Centroid Latitude')\n",
    "plt.show()"
   ]
  },
  {
   "cell_type": "code",
   "execution_count": null,
   "id": "ce44f496-e693-472b-8a73-fc77e8d3bfb5",
   "metadata": {},
   "outputs": [],
   "source": []
  }
 ],
 "metadata": {
  "kernelspec": {
   "display_name": "Python 3 (ipykernel)",
   "language": "python",
   "name": "python3"
  },
  "language_info": {
   "codemirror_mode": {
    "name": "ipython",
    "version": 3
   },
   "file_extension": ".py",
   "mimetype": "text/x-python",
   "name": "python",
   "nbconvert_exporter": "python",
   "pygments_lexer": "ipython3",
   "version": "3.11.6"
  }
 },
 "nbformat": 4,
 "nbformat_minor": 5
}
