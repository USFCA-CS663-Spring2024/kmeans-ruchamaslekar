{
 "cells": [
  {
   "cell_type": "markdown",
   "id": "57162c19-f4aa-4309-865a-3e4111cb890c",
   "metadata": {},
   "source": [
    "# Part 4. Extended K-Means\n",
    "- Implemented extended K-Mean version in Extended_KMeans.py file"
   ]
  },
  {
   "cell_type": "code",
   "execution_count": 4,
   "id": "54e855af-e1f8-4280-bb52-3da475ba6292",
   "metadata": {},
   "outputs": [],
   "source": [
    "import numpy as np\n",
    "import matplotlib.pyplot as plt\n",
    "import pandas as pd\n",
    "import seaborn as sns\n",
    "from Enhanced_KMeans import KMeans\n",
    "from sklearn.datasets import make_blobs"
   ]
  },
  {
   "cell_type": "markdown",
   "id": "fe0e49ef-4d01-497b-9be5-e9e3e23943e4",
   "metadata": {},
   "source": [
    "# 2. Input data\n",
    "- These data points represent coordinates in a 2D space.\n",
    "- The goal is to apply the K-Means algorithm to cluster these points into distinct groups.\n",
    "- Each sublist in X corresponds to the (x, y) coordinates of an instance.\n",
    "- This sample data has 8 instances for demonstration purposes."
   ]
  },
  {
   "cell_type": "code",
   "execution_count": 5,
   "id": "eb9c744d-3934-4bd4-b91d-4f2d189193c8",
   "metadata": {},
   "outputs": [],
   "source": [
    "X = np.array([[0, 0], [2, 2], [0, 2], [2, 0], [10, 10], [8, 8], [10, 8], [8, 10]])"
   ]
  },
  {
   "cell_type": "markdown",
   "id": "fcd947e5-b072-4b88-8717-88b95a5dfde9",
   "metadata": {},
   "source": [
    "# 3. Applying Extbded K-Means Clustering\n",
    "- Initializing a KMeans object with k=4, indicating the desired number of clusters.\n",
    "- balanced is an optional parameter which modifies the K-Means algorithm to try to balance the sizes of the clusters, so that clusters become roughly equal in terms of the number of instances.\n",
    "- max_iter is setting the maximum number of iterations for the K-Means algorithm to converge.\n",
    "- The result includes cluster labels assigned to each data point (cluster_labels)\n",
    "  and the coordinates of the cluster centroids (centroids)."
   ]
  },
  {
   "cell_type": "code",
   "execution_count": 6,
   "id": "2801ab85-a1fd-4c6f-b598-fef60d58ed19",
   "metadata": {},
   "outputs": [
    {
     "data": {
      "text/plain": [
       "(array([1, 0, 0, 1, 2, 3, 2, 3]),\n",
       " array([[ 1.,  2.],\n",
       "        [ 1.,  0.],\n",
       "        [10.,  9.],\n",
       "        [ 8.,  9.]]))"
      ]
     },
     "execution_count": 6,
     "metadata": {},
     "output_type": "execute_result"
    }
   ],
   "source": [
    "Extended_KMeans = KMeans(k=4, balanced=True, max_iter=2)\n",
    "Extended_KMeans.fit(X)"
   ]
  },
  {
   "cell_type": "markdown",
   "id": "1c2e8472-daeb-4806-bb47-f7696f2b5c54",
   "metadata": {},
   "source": [
    "# 4. Evaluating the clustering using Silhouette Score"
   ]
  },
  {
   "cell_type": "code",
   "execution_count": 11,
   "id": "46177be5-7e2c-498c-b6ca-7cb72ec22a99",
   "metadata": {},
   "outputs": [
    {
     "name": "stdout",
     "output_type": "stream",
     "text": [
      "Silhouette Score: 0.17157287525380985\n"
     ]
    }
   ],
   "source": [
    "from sklearn.metrics import silhouette_score\n",
    "\n",
    "silhouette_avg = silhouette_score(X, labels)\n",
    "print(f\"Silhouette Score: {silhouette_avg}\")"
   ]
  },
  {
   "cell_type": "markdown",
   "id": "f0249c91-cce0-4f0c-ba44-2abb2ebea52b",
   "metadata": {},
   "source": [
    "# 5. Performnce Analysis:\n",
    "- Extracting cluster labels and centroids\n",
    "- Plotting data points\n",
    "- Plotting cluster centroids"
   ]
  },
  {
   "cell_type": "code",
   "execution_count": 17,
   "id": "9a34782a-f198-41f2-aeff-d3e58c318007",
   "metadata": {},
   "outputs": [
    {
     "name": "stdout",
     "output_type": "stream",
     "text": [
      "Silhouette Score: 0.17157287525380985\n"
     ]
    },
    {
     "data": {
      "image/png": "[encoded data removed]",
      "text/plain": [
       "<Figure size 640x480 with 1 Axes>"
      ]
     },
     "metadata": {},
     "output_type": "display_data"
    }
   ],
   "source": [
    "# Assuming you have labels and centroids from your custom KMeans\n",
    "labels, centroids = Extended_KMeans.fit(X)\n",
    "\n",
    "# Silhouette Score\n",
    "silhouette_avg = silhouette_score(X, labels)\n",
    "print(f\"Silhouette Score: {silhouette_avg}\")\n",
    "\n",
    "# Scatter plot for data points and centroids\n",
    "plt.scatter(X[:, 0], X[:, 1], c=labels, cmap='viridis', alpha=0.5, edgecolors='k', linewidths=0.5)\n",
    "plt.scatter(centroids[:, 0], centroids[:, 1], c='red', marker='X', s=200, label='Centroids', edgecolors='k')\n",
    "plt.title('Balanced Kmeans')\n",
    "plt.xlabel('X')\n",
    "plt.ylabel('Y')\n",
    "plt.legend()\n",
    "plt.show()"
   ]
  },
  {
   "cell_type": "markdown",
   "id": "2690e1cc-c4fa-44c2-a15d-729ddbc2a4ee",
   "metadata": {},
   "source": [
    "# 6. Conclution: \n",
    "- I observed that in normal KMeans, clusters are formed based on minimizing the sum of squared distances, but there's no consideration for  making the cluster sizes equal.\n",
    "- Cluster sizes may vary widely, and the algorithm is focused on optimizing the overall compactness of the clusters.\n",
    "- But in the Enhanced KMean algorithm with balanced, the algorithm tries to create clusters of roughly equal sizes.\n",
    "- This helps to prevent situations where some clusters become much larger than others.\n",
    "- It is useful when we need clusters to be more evenly distributed in terms of the number of data points they contain."
   ]
  }
 ],
 "metadata": {
  "kernelspec": {
   "display_name": "Python 3 (ipykernel)",
   "language": "python",
   "name": "python3"
  },
  "language_info": {
   "codemirror_mode": {
    "name": "ipython",
    "version": 3
   },
   "file_extension": ".py",
   "mimetype": "text/x-python",
   "name": "python",
   "nbconvert_exporter": "python",
   "pygments_lexer": "ipython3",
   "version": "3.11.6"
  }
 },
 "nbformat": 4,
 "nbformat_minor": 5
}
